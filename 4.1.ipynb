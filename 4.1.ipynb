{
 "cells": [
  {
   "cell_type": "code",
   "execution_count": 1,
   "metadata": {},
   "outputs": [],
   "source": [
    "import numpy as np\n",
    "import pandas as pd\n",
    "import matplotlib.pyplot as plt\n",
    "import os\n",
    "from PIL import Image"
   ]
  },
  {
   "cell_type": "code",
   "execution_count": 2,
   "metadata": {},
   "outputs": [],
   "source": [
    "opt = {\n",
    "    'image_size': 32,\n",
    "    'is_grayscale': True,\n",
    "    'val_split': 0.75\n",
    "}"
   ]
  },
  {
   "cell_type": "code",
   "execution_count": 3,
   "metadata": {},
   "outputs": [],
   "source": [
    "def load_image(path):\n",
    "    im = Image.open(path).convert('L' if opt['is_grayscale'] else 'RGB')\n",
    "    im = im.resize((opt['image_size'],opt['image_size']))\n",
    "    im = np.array(im)\n",
    "    return im\n",
    "\n",
    "def display_images(imgs,row=1,col=2,w=32,h=32):\n",
    "    fig=plt.figure(figsize=(8, 8))\n",
    "    for i in range(1, col*row +1):\n",
    "        img = imgs[i-1]\n",
    "        fig.add_subplot(row, col, i)\n",
    "        \n",
    "        if opt['is_grayscale']:\n",
    "            plt.imshow(img , cmap='gray') \n",
    "        else:\n",
    "            plt.imshow(img)\n",
    "        \n",
    "        # plt.title(\"Class:{}\".format(classes[i-1]))\n",
    "        plt.axis('off')\n",
    "    plt.show()\n",
    "\n",
    "def load_data(dir_path):\n",
    "    image_list = []\n",
    "    for filename in sorted(os.listdir(dir_path)):\n",
    "        if filename.endswith(\".png\"):\n",
    "            im = load_image(os.path.join(dir_path,filename))\n",
    "            image_list.append(im)\n",
    "        else:\n",
    "            continue\n",
    "    image_list = np.array(image_list)\n",
    "    print(\"Dataset shape:\",image_list.shape)\n",
    "\n",
    "    return image_list"
   ]
  },
  {
   "cell_type": "markdown",
   "metadata": {},
   "source": [
    "### 4.1 KIMIA Dataset ###"
   ]
  },
  {
   "cell_type": "code",
   "execution_count": 4,
   "metadata": {},
   "outputs": [
    {
     "name": "stdout",
     "output_type": "stream",
     "text": [
      "Dataset shape: (99, 32, 32)\n"
     ]
    }
   ],
   "source": [
    "path = './OneDrive_2023-09-24/KIMIA dataset/'\n",
    "X = load_data(path)"
   ]
  },
  {
   "cell_type": "code",
   "execution_count": 5,
   "metadata": {},
   "outputs": [
    {
     "data": {
      "text/plain": [
       "(32, 32)"
      ]
     },
     "execution_count": 5,
     "metadata": {},
     "output_type": "execute_result"
    }
   ],
   "source": [
    "import cv2\n",
    "N,H,W = X.shape[0:3]\n",
    "C = 1 if opt['is_grayscale'] else X.shape[3]\n",
    "\n",
    "np.shape(X[0])"
   ]
  },
  {
   "cell_type": "code",
   "execution_count": 7,
   "metadata": {},
   "outputs": [],
   "source": [
    "from sklearn.decomposition import PCA\n",
    "import cv2\n",
    "\n",
    "# Load the template shape and extract orientation information\n",
    "directory = './OneDrive_2023-09-24/KIMIA dataset'\n",
    "template = 'cat1.png'\n",
    "\n",
    "template_image = load_image(os.path.join(directory, template))\n",
    "\n",
    "# black_pixels_template = np.where(template_image == 0)\n",
    "black_pixels_template = []\n",
    "for i in range(template_image.shape[0]):\n",
    "    for j in range(template_image.shape[1]):\n",
    "        if (template_image[i][j] == 0):\n",
    "            black_pixels_template.append([i, j])\n",
    "\n",
    "# black_pixels_template = np.transpose(black_pixels_template)\n",
    "\n",
    "pca = PCA(n_components=2)\n",
    "x = []\n",
    "pca.fit_transform(black_pixels_template)\n",
    "eigenvectors_X = pca.components_[1]\n",
    "\n",
    "image_x = Image.open(os.path.join(directory, template))\n",
    "output_folder = \"./output\"  # Replace with the path to your output folder\n",
    "output_file = f\"{output_folder}/image{0}.jpg\"\n",
    "image_x.save(output_file)\n",
    "\n",
    "k = 1\n",
    "for image in sorted(os.listdir(directory)):\n",
    "    if (image == template):\n",
    "        continue\n",
    "\n",
    "    image_rotate = load_image(os.path.join(directory, image))    \n",
    "    # black_pixels = np.where(image_rotate == 0)\n",
    "    # black_pixels = np.transpose(black_pixels)\n",
    "\n",
    "    black_pixels = []\n",
    "    for i in range(image_rotate.shape[0]):\n",
    "        for j in range(image_rotate.shape[1]):\n",
    "            if (image_rotate[i][j] == 0):\n",
    "                black_pixels.append([i, j])\n",
    "\n",
    "    pca1 = PCA(n_components=2)\n",
    "    pca1.fit_transform(black_pixels)\n",
    "    eigenvectors_Y = pca1.components_[1]\n",
    "    \n",
    "    angle = np.arccos(np.dot(eigenvectors_X, np.transpose(eigenvectors_Y)))\n",
    "    angle = np.degrees(angle)\n",
    "    height, width = template_image.shape[:2]\n",
    "\n",
    "    x = np.cross(eigenvectors_X, eigenvectors_Y)\n",
    "\n",
    "    rotated_image = Image.open(os.path.join(directory, image))\n",
    "    if (x >= 0):\n",
    "        rotated_image = rotated_image.rotate(angle)\n",
    "    else:\n",
    "        rotated_image = rotated_image.rotate(-angle)\n",
    "    \n",
    "    output_folder = \"./output\"  # Replace with the path to your output folder\n",
    "    output_file = f\"{output_folder}/image{k}.jpg\"\n",
    "    rotated_image.save(output_file)\n",
    "    k += 1"
   ]
  },
  {
   "cell_type": "markdown",
   "metadata": {},
   "source": [
    "### Flowchart for Aligning Shapes with a Template (KIMIA-99 Dataset) ###\n",
    "\n",
    "1. Load Template Image and KIMIA-99 Dataset:\n",
    "   Begin by loading the template shape image and the KIMIA-99 dataset, which contains 99 different shapes.\n",
    "\n",
    "2. Initialize Variables and Set Output Folder:\n",
    "   Initialize essential variables, counters, and specify an output folder to store the aligned images.\n",
    "\n",
    "3. Iterate Through Each Shape in the Dataset:\n",
    "   For every shape in the KIMIA-99 dataset:\n",
    "     - Check if the shape matches the template; if it does, move to the next shape.\n",
    "     - Calculate the coordinates of black pixels in the template image using PCA (Principal Component Analysis).\n",
    "     - Determine the orientation (angle) of the template shape.\n",
    "\n",
    "4. Process Each Shape in the Dataset:\n",
    "   For each shape in the dataset (excluding the template):\n",
    "     - Compute the coordinates of black pixels in the current shape image using PCA.\n",
    "     - Determine the orientation (angle) of the current shape.\n",
    "     - Calculate the angle difference between the template and current shape orientations.\n",
    "     - Decide on the rotation direction (clockwise or counterclockwise) based on the angle difference.\n",
    "     - Rotate the current shape image to align it with the template shape, following the determined rotation direction.\n",
    "\n",
    "5. Save Aligned Images:\n",
    "   Store the aligned images in the specified output folder with unique filenames.\n",
    "\n",
    "6. Repeat for All Shapes:\n",
    "   Reiterate steps 3 to 5 for all shapes present in the dataset.\n",
    "\n",
    "7. Algorithm Completion:\n",
    "   The algorithm concludes after processing all shapes in the dataset.\n",
    "\n",
    "8. Output:\n",
    "   The output folder now contains aligned images of the dataset shapes, aligned with respect to the template shape.\n"
   ]
  }
 ],
 "metadata": {
  "kernelspec": {
   "display_name": "Python 3",
   "language": "python",
   "name": "python3"
  },
  "language_info": {
   "codemirror_mode": {
    "name": "ipython",
    "version": 3
   },
   "file_extension": ".py",
   "mimetype": "text/x-python",
   "name": "python",
   "nbconvert_exporter": "python",
   "pygments_lexer": "ipython3",
   "version": "3.10.12"
  },
  "orig_nbformat": 4
 },
 "nbformat": 4,
 "nbformat_minor": 2
}
